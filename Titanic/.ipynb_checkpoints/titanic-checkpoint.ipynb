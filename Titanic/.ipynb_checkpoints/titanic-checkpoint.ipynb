{
 "cells": [
  {
   "cell_type": "code",
   "execution_count": 12,
   "metadata": {},
   "outputs": [],
   "source": [
    "import numpy as np\n",
    "import pandas as pd\n",
    "import matplotlib.pyplot as plt\n",
    "\n",
    "\n",
    "trainTable = pd.read_csv(\"train.csv\")\n",
    "y_train = trainTable[\"Survived\"]\n"
   ]
  },
  {
   "cell_type": "markdown",
   "metadata": {},
   "source": [
    "# 预处理\n"
   ]
  },
  {
   "cell_type": "code",
   "execution_count": 13,
   "metadata": {},
   "outputs": [],
   "source": [
    "def preprocessing( table ):\n",
    "    \"\"\"\n",
    "    type table: pandas.df\n",
    "    rtype: pandas.df\n",
    "    \"\"\"\n",
    "    table = table[[\"Pclass\",\"Sex\",\"Age\",\"SibSp\",\"Parch\",\"Fare\",\"Embarked\"]]\n",
    "\n",
    "    table[\"Sex\"] = pd.get_dummies(table[\"Sex\"],drop_first = True)\n",
    "    \n",
    "    temp =  pd.get_dummies(table[\"Embarked\"],prefix = \"Embarked\")\n",
    "    table = table.join(temp)\n",
    "    del table[\"Embarked\"]\n",
    "    \n",
    "    table.dropna(inplace = True)\n",
    "    table.reset_index(drop = True, inplace = True)\n",
    "    return table\n",
    "\n",
    "\n",
    "x_train = preprocessing(trainTable)"
   ]
  },
  {
   "cell_type": "markdown",
   "metadata": {},
   "source": [
    "# Feature engineering\n"
   ]
  },
  {
   "cell_type": "code",
   "execution_count": 30,
   "metadata": {},
   "outputs": [
    {
     "data": {
      "text/plain": [
       "Survived       1.000000\n",
       "Pclass         0.338481\n",
       "Fare           0.257307\n",
       "Parch          0.081629\n",
       "Age            0.077221\n",
       "SibSp          0.035322\n",
       "PassengerId    0.005007\n",
       "Name: Survived, dtype: float64"
      ]
     },
     "execution_count": 30,
     "metadata": {},
     "output_type": "execute_result"
    }
   ],
   "source": [
    "abs(trainTable.corr())[\"Survived\"].sort_values(ascending = False)"
   ]
  },
  {
   "cell_type": "code",
   "execution_count": null,
   "metadata": {},
   "outputs": [],
   "source": [
    "import sklearn.linear_model.LogisticRegression\n"
   ]
  }
 ],
 "metadata": {
  "kernelspec": {
   "display_name": "Python 3",
   "language": "python",
   "name": "python3"
  },
  "language_info": {
   "codemirror_mode": {
    "name": "ipython",
    "version": 3
   },
   "file_extension": ".py",
   "mimetype": "text/x-python",
   "name": "python",
   "nbconvert_exporter": "python",
   "pygments_lexer": "ipython3",
   "version": "3.7.3"
  }
 },
 "nbformat": 4,
 "nbformat_minor": 2
}
